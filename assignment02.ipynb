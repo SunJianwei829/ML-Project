{
 "cells": [
  {
   "cell_type": "markdown",
   "metadata": {},
   "source": [
    "<div style=\"text-align: center;\">\n",
    "    <h1>Assignment 02</h1>\n",
    "    <h1>孙健玮      12440018</h1>\n",
    "</div>"
   ]
  },
  {
   "cell_type": "markdown",
   "metadata": {},
   "source": [
    "# 1. 任务描述\n",
    "1. 使⽤PyTorch下载MNIST数据集，包括训练集和测试集。\n",
    "2. 使⽤PyTorch分别实现Logistic Regression模型和MLP（多层感知机）模型。\n",
    "3. 分别使⽤Logistic Regression模型和MLP模型进⾏训练，调试参数并获得较好的训练结果。\n",
    "4. 分别记录训练集的Loss并画出曲线。\n",
    "5. 针对测试集使⽤Accuracy评估模型的性能，讨论两个模型的训练结果并给出⾃⼰的结论。"
   ]
  },
  {
   "cell_type": "markdown",
   "metadata": {},
   "source": [
    "# 2. 编程模块"
   ]
  },
  {
   "cell_type": "markdown",
   "metadata": {},
   "source": [
    "## 2.1 数据加载"
   ]
  },
  {
   "cell_type": "code",
   "execution_count": 8,
   "metadata": {},
   "outputs": [],
   "source": [
    "import torch\n",
    "from torchvision import transforms, datasets\n",
    "\n",
    "# 定义数据预处理操作\n",
    "transform = transforms.Compose([\n",
    "    transforms.ToTensor(),  # 将图像转换为Tensor\n",
    "    transforms.Normalize((0.5,), (0.5,))  # 对图像进行标准化处理\n",
    "])\n",
    "\n",
    "# 下载训练集MNIST手写数字数据集\n",
    "train_dataset = datasets.MNIST(root='./data', train=True, download=True, transform=transform)\n",
    "test_dataset = datasets.MNIST(root='./data', train=False, download=True, transform=transform)\n",
    "\n",
    "# 加载数据\n",
    "train_loader = torch.utils.data.DataLoader(train_dataset, batch_size=64, shuffle=True)\n",
    "test_loader = torch.utils.data.DataLoader(test_dataset, batch_size=64, shuffle=False)"
   ]
  },
  {
   "cell_type": "markdown",
   "metadata": {},
   "source": [
    "## 2.2 定义模型"
   ]
  },
  {
   "cell_type": "code",
   "execution_count": null,
   "metadata": {},
   "outputs": [],
   "source": [
    "import torch.nn as nn\n",
    "\n",
    "# Logistic Regression模型\n",
    "class LogisticRegression(nn.Module):\n",
    "    def __init__(self, input_dim, output_dim):\n",
    "        super(LogisticRegression, self). __init__()\n",
    "        self.input_dim = input_dim\n",
    "        self.output_dim = output_dim\n",
    "        self.linear = nn.Linear(input_dim, output_dim)\n",
    "        \n",
    "    def forward(self, x):\n",
    "        return self.linear(x)\n",
    "    \n",
    "# MLP模型\n",
    "class MLP(nn.Module):\n",
    "    def __init__(self, input_dim, hidden_dim, output_dim):\n",
    "        super(MLP, self).__init__()\n",
    "        self.input_dim = input_dim\n",
    "        self.hidden_dim = hidden_dim\n",
    "        self.output_dim = output_dim\n",
    "        self.fc1 = nn.Linear(input_dim, hidden_dim)\n",
    "        self.fc2 = nn.Linear(hidden_dim, output_dim)\n",
    "        self.relu = nn.ReLU()\n",
    "        \n",
    "    def forward(self, x):\n",
    "        x = self.fc1(x)\n",
    "        x = self.relu(x)\n",
    "        x = self.fc2(x)\n",
    "        return x"
   ]
  },
  {
   "cell_type": "markdown",
   "metadata": {},
   "source": [
    "## 2.3 训练模型"
   ]
  },
  {
   "cell_type": "code",
   "execution_count": null,
   "metadata": {},
   "outputs": [],
   "source": [
    "import torch.optim as optim\n",
    "\n",
    "def train_model(model, train_loader, criterion, optimiser, num_epochs):\n",
    "    \"\"\"训练模型\n",
    "    :param model: 模型\n",
    "    :param train loader\n",
    "    :训练数据加载器\n",
    "    :param criterion\n",
    "    :损失函数:param optimizer\n",
    "    :优化器:param num_epochs\n",
    "    :训练轮数:return\n",
    "    :训练过程中的损失列表\n",
    "    \"\"\"\n",
    "    model.train()   # 将模型设置为训练模式\n",
    "    losses = []    # 保存每个epoch的loss\n",
    "        \n",
    "    for epoch in range(num_epochs):\n",
    "        epoch_loss = 0.0\n",
    "        for i, (images, labels) in enumerate(train_loader):\n",
    "            # 将图片展平为向量，适用于全连接网络\n",
    "            images = images.view(-1, 28*28)\n",
    "            \n",
    "            # 前向传播\n",
    "            outputs = model(images)\n",
    "            loss = criterion(outputs, labels)\n",
    "            \n",
    "            # 反向传播和优化\n",
    "            optimiser.zero_grad()\n",
    "            loss.backword()\n",
    "            optimiser.step()\n",
    "            \n",
    "            # 记录损失\n",
    "            epoch_loss += loss.item()\n",
    "            if (i + 1) % 100 == 0:\n",
    "                print(f'Eposh [{epoch + 1}/{num_epochs}], Step [{i + 1}/{len(train_loader)}, Loss: {loss.item():.4f}')\n",
    "                \n",
    "        # 记录每个epoch的平均损失\n",
    "        losses.append(epoch_loss / len(train_loader))\n",
    "        print(f'Epoch [{epoch + 1}/{num_epochs}], Loss {epoch_loss / len(train_loader):.4f}')\n",
    "        \n",
    "    return losses\n",
    "            "
   ]
  },
  {
   "cell_type": "markdown",
   "metadata": {},
   "source": [
    "## 2.4 测试模块"
   ]
  },
  {
   "cell_type": "code",
   "execution_count": null,
   "metadata": {},
   "outputs": [],
   "source": [
    "def test_model(model, test_loader):\n",
    "    \"\"\"测试模型\n",
    "    :param model: 模型\n",
    "    :param test_loader: 测试数据加载器\n",
    "    :return: 测试准确率\n",
    "    \"\"\"\n",
    "    model.eval() # 将模型设置为测试模式\n",
    "    correct = 0\n",
    "    total = 0\n",
    "    \n",
    "    with torch.no_grad():   # 测试过程中不需要计算梯度\n",
    "        for images, labels in test_loader:\n",
    "            images = images.view(-1, 28*28)\n",
    "            outputs = model(images)\n",
    "            _, predicted = torch.max(outputs.data, 1)\n",
    "            total += labels.size(0)\n",
    "            correct += (predicted == labels).sum().item()\n",
    "            \n",
    "    accuracy = 100 * correct / total\n",
    "    print(f'Accuracy of the model on the test images: {accuracy}')\n",
    "    return accuracy"
   ]
  },
  {
   "cell_type": "markdown",
   "metadata": {},
   "source": [
    "## 2.5 主程序"
   ]
  },
  {
   "cell_type": "code",
   "execution_count": null,
   "metadata": {},
   "outputs": [],
   "source": [
    "if __name__ == \"__main__\":\n",
    "    # 定义模型参数\n",
    "    input_dim = 28 * 28\n",
    "    output_dim = 10\n",
    "    hidden_dim = 28 * 28\n",
    "    \n",
    "    # 学习率\n",
    "    lr = 0.01\n",
    "    \n",
    "    # 定义模型\n",
    "    logistic_model = LogisticRegression(input_dim, output_dim)\n",
    "    mlp_model = MLP(input_dim, hidden_dim, output_dim)\n",
    "    \n",
    "    # 定义损失函数和优化器\n",
    "    criterion = nn.CrossEntropyLoss()   # 使用交叉熵损失函数\n",
    "    logistic_SGD = optim.SGD(logistic_model.parameters, lr)\n",
    "    mlp_SGD = optim.SGD(mlp_model.parameters, lr)"
   ]
  }
 ],
 "metadata": {
  "kernelspec": {
   "display_name": "ML",
   "language": "python",
   "name": "python3"
  },
  "language_info": {
   "codemirror_mode": {
    "name": "ipython",
    "version": 3
   },
   "file_extension": ".py",
   "mimetype": "text/x-python",
   "name": "python",
   "nbconvert_exporter": "python",
   "pygments_lexer": "ipython3",
   "version": "3.13.2"
  }
 },
 "nbformat": 4,
 "nbformat_minor": 2
}
